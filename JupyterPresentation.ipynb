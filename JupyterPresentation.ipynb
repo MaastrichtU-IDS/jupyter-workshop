{
 "cells": [
  {
   "cell_type": "markdown",
   "metadata": {
    "slideshow": {
     "slide_type": "slide"
    }
   },
   "source": [
    "# Jupyter Notebooks Workshop  \n",
    "### Linda Rieswijk  \n",
    "### Pedro V Hernandez Serrano  \n",
    "***Institute of Data Science***\n",
    "\n",
    "![](images/um-landpage.png)\n",
    "\n",
    "\n",
    "\n",
    "\n"
   ]
  },
  {
   "cell_type": "markdown",
   "metadata": {
    "slideshow": {
     "slide_type": "subslide"
    }
   },
   "source": [
    "# Agenda\n",
    "1. \n",
    "2. \n",
    "3. \n",
    "\n",
    "\n",
    "\n"
   ]
  },
  {
   "cell_type": "markdown",
   "metadata": {
    "slideshow": {
     "slide_type": "slide"
    }
   },
   "source": [
    "# 1. Introduction to Notebooks and the Jupyter Project\n",
    "![](images/jupyter.png)\n",
    "\n",
    "Image: © 2019 DataCamp Inc."
   ]
  },
  {
   "cell_type": "markdown",
   "metadata": {
    "slideshow": {
     "slide_type": "slide"
    }
   },
   "source": [
    "## 1.1 Background"
   ]
  },
  {
   "cell_type": "markdown",
   "metadata": {
    "slideshow": {
     "slide_type": "subslide"
    }
   },
   "source": [
    "## What is Jupyter?\n",
    "\n",
    "Jupyter notebook, formerly known as IPython (or Interactive Python), is a flexible and powerful open source research tool that can help you keep a narrative of your coding process. The name Jupyter is an acronym of the three core languages it was designed for: **JU**lia, **PYT**hon, and **R**. Project Jupyter supports interactive data science and scientific computing across more than 40 programming languages.\n",
    "\n",
    "<img src=\"images/Jupyter_logo.PNG\" style=\"width: 500px;\"/>\n",
    "<center><font size=\"2\">https://jupyter.org/</font></center>"
   ]
  },
  {
   "cell_type": "markdown",
   "metadata": {
    "slideshow": {
     "slide_type": "subslide"
    }
   },
   "source": [
    "## Jupyter as Coding Diary\n",
    "\n",
    "You can think of the notebook as a lab or field diary that keeps a detailed record of the steps you take as you develop scripts and programming workflows. Just as you would with a field notebook, it is important to develop good note-taking habits. This workshop is designed to impart a set of skills, tools, and best practices you can implement in your own research to enhance reprodubility, which will make modifications, collaboration, and publishing easier. \n",
    "\n",
    "<img src=\"images/Field-Code_Notes.png\" style=\"width: 750px;\"/>"
   ]
  },
  {
   "cell_type": "markdown",
   "metadata": {
    "slideshow": {
     "slide_type": "subslide"
    }
   },
   "source": [
    "## Users\n",
    "<img src=\"images/users.png\" style=\"width: 200px;\"/>\n",
    "Image: https://github.com/jupyter/surveys/tree/master/surveys/2015-12-notebook-ux"
   ]
  },
  {
   "cell_type": "markdown",
   "metadata": {
    "slideshow": {
     "slide_type": "slide"
    }
   },
   "source": [
    "## 1.2 Features"
   ]
  },
  {
   "cell_type": "markdown",
   "metadata": {
    "slideshow": {
     "slide_type": "subslide"
    }
   },
   "source": [
    "### Interactive, Exploratory, Reproducible \n",
    "- Interactive, browser-based computing environment\n",
    "- Exploratory data science, ML, visualization, analysis, stats \n",
    "- Reproducible document format:\n",
    "    + Code\n",
    "    + Narrative text (markdown)\n",
    "    + Equations (LaTeX)\n",
    "    + Images, visualizations\n",
    "- Over 50 programming languages\n",
    "   + Everything open-source (BSD license)"
   ]
  },
  {
   "cell_type": "markdown",
   "metadata": {
    "slideshow": {
     "slide_type": "subslide"
    }
   },
   "source": [
    "### Resources\n",
    "#### `Project Jupyter`\n",
    "\n",
    "- `Project Jupyter` [Homepage](http://jupyter.org/)\n",
    "- `Project Jupyter` [Google group](https://groups.google.com/forum/#!forum/jupyter)\n",
    "- `Jupyter` [documentation](https://jupyter.readthedocs.io/en/latest/)\n",
    "- [GitHub](https://github.com/jupyter/help)\n",
    "- Free `Project Jupyter` tutorials:\n",
    "    - [Readthedocs](https://jupyter-notebook-beginner-guide.readthedocs.io/en/latest/)\n",
    "    - [YouTube](https://www.youtube.com/watch?v=Rc4JQWowG5I)\n",
    "    \n",
    "#### `Reproducible analysis and Research Transparency Workshop`\n",
    "[reproducible-analysis-workshop](https://reproducible-analysis-workshop.readthedocs.io/en/latest/index.html)"
   ]
  },
  {
   "cell_type": "markdown",
   "metadata": {
    "slideshow": {
     "slide_type": "slide"
    }
   },
   "source": [
    "## 1.3 Reproducible Research"
   ]
  },
  {
   "cell_type": "markdown",
   "metadata": {
    "slideshow": {
     "slide_type": "subslide"
    }
   },
   "source": [
    "An article about computational science in a scientific publication is not the scholarship itself, it is merely\n",
    "advertising of the scholarship. The actual scholarship is the complete software development environment and the complete set of instructions which generated the figures.  \n",
    "***Buckheit and Donoho, WaveLab and Reproducible Research, 1995***"
   ]
  },
  {
   "cell_type": "markdown",
   "metadata": {
    "slideshow": {
     "slide_type": "subslide"
    }
   },
   "source": [
    "**Global scientific output doubles every nine years**  \n",
    "![](images/plot-nature.png)  \n",
    "***Bornmann & Mutz, arxiv.org/1402.4578, Nature News Blog, May 201***"
   ]
  },
  {
   "cell_type": "markdown",
   "metadata": {
    "slideshow": {
     "slide_type": "slide"
    }
   },
   "source": [
    "# 2. Jupyterlab and Notebooks Interface (the basics)"
   ]
  },
  {
   "cell_type": "markdown",
   "metadata": {
    "slideshow": {
     "slide_type": "subslide"
    }
   },
   "source": [
    "## Let's get started...\n",
    "\n",
    "1. Go to our workshop enviroment  \n",
    "\n",
    "    **145.100.58.103:32768**\n",
    "\n",
    "2. Download the token of the environment  \n",
    "\n",
    "    **bit.ly/UM2019jupyter**\n",
    "\n",
    "3. Paste the token of the session and press `Log in`\n",
    "\n",
    "<img src=\"images/token.png\" style=\"width: 300px;\"/>\n",
    "\n",
    "4. Welcome! Now, create a folder with your name (top left)  \n",
    "\n",
    "<img src=\"images/create_folder.png\" style=\"width: 300px;\"/>"
   ]
  },
  {
   "cell_type": "markdown",
   "metadata": {
    "slideshow": {
     "slide_type": "subslide"
    }
   },
   "source": [
    "**User interface operations**\n",
    "\n",
    "- Insert & delete cells\n",
    "- Change cell type (& know different cell types)\n",
    "- Run a single cell from taskbar & keyboard shortcut (shift + Enter)\n",
    "- Run multiples cells, all cells\n",
    "- Re-order cells\n",
    "- Split & merge cells\n",
    "- Stop a cell "
   ]
  },
  {
   "cell_type": "markdown",
   "metadata": {
    "slideshow": {
     "slide_type": "fragment"
    }
   },
   "source": [
    "A new notebook contains a single *code* cell.\n",
    "\n",
    "Add a line of code and execute it by:\n",
    "- *clicking the run button*, or\n",
    "- click in the cell, and press `shift-return`"
   ]
  },
  {
   "cell_type": "code",
   "execution_count": 1,
   "metadata": {
    "jupyter": {
     "outputs_hidden": false
    },
    "slideshow": {
     "slide_type": "fragment"
    }
   },
   "outputs": [
    {
     "name": "stdout",
     "output_type": "stream",
     "text": [
      "hello world\n"
     ]
    }
   ],
   "source": [
    "print('hello world')"
   ]
  },
  {
   "cell_type": "markdown",
   "metadata": {
    "slideshow": {
     "slide_type": "fragment"
    }
   },
   "source": [
    "To select a cell, click on it. The selected cell will be surrounded by a box with the left hand side highlighted.\n",
    "\n",
    "Additionally select adjacent cells using `SHIFT-UP ARROW` or `SHIFT-DOWN ARROW`."
   ]
  },
  {
   "cell_type": "markdown",
   "metadata": {
    "slideshow": {
     "slide_type": "subslide"
    }
   },
   "source": [
    "## Managing Cells - Add, Delete, Reorder\n",
    "\n",
    "__Add__ a new cell to the notebook by:\n",
    " - click the + button on the toolbar\n",
    " - `Insert -> Insert Cell Above` or `ESC-A`\n",
    " - `Insert -> Insert Cell Below` or `ESC-B`\n",
    " \n",
    "__Delete__ a cell by selecting it and:\n",
    " - click the scissors button on the toolbar\n",
    " - `Edit -> Delete cells` or `ESC-DD`\n",
    "\n",
    "__Undelete__ the last deleted cell:\n",
    "- `Edit -> Undo Delete cells` or `ESC-Z`\n",
    "\n",
    "Each cell has a __cell history__ associated with it. Use `CMD-Z` to step back through previous cell contents.\n",
    " \n",
    "__Reorder__ cells by:\n",
    "- moving them up and down the notebook using the up and down arrows on the toolbar\n",
    "- `Edit -> Move Cell Up` or `Edit -> Move Cell Down` \n",
    "- cutting and pasting them:\n",
    " - `Edit - >Cut` or `Edit->Paste Cells Above` or `Edit->Paste Cells Below`\n",
    " - on the toolbar, `Cut selected cells` then `Paste selected cells`\n",
    "\n",
    "Copy and cut selected cells from the toolbar:\n",
    "- `Edit -> Copy Cells` or `ESC-C`.\n",
    "- `Edit -> Cut Cells` or `ESC-X`."
   ]
  },
  {
   "cell_type": "markdown",
   "metadata": {
    "slideshow": {
     "slide_type": "subslide"
    }
   },
   "source": [
    "## Cell outputs\n",
    "\n",
    "If the last line of code produces an output, the output will be embedded in the notebook below the code cell:"
   ]
  },
  {
   "cell_type": "code",
   "execution_count": 2,
   "metadata": {
    "jupyter": {
     "outputs_hidden": false
    },
    "slideshow": {
     "slide_type": "fragment"
    }
   },
   "outputs": [
    {
     "data": {
      "text/plain": [
       "3"
      ]
     },
     "execution_count": 2,
     "metadata": {},
     "output_type": "execute_result"
    }
   ],
   "source": [
    "a=1\n",
    "b=2\n",
    "\n",
    "a+b"
   ]
  },
  {
   "cell_type": "markdown",
   "metadata": {
    "slideshow": {
     "slide_type": "fragment"
    }
   },
   "source": [
    "#### We can run a cell multiple times\n",
    "\n",
    "Each time the cell us run, the state of the underlying python process is updated, even if the visual display of other cells in the notebook is not."
   ]
  },
  {
   "cell_type": "code",
   "execution_count": 3,
   "metadata": {
    "jupyter": {
     "outputs_hidden": false
    },
    "slideshow": {
     "slide_type": "fragment"
    }
   },
   "outputs": [
    {
     "name": "stdout",
     "output_type": "stream",
     "text": [
      "1\n"
     ]
    }
   ],
   "source": [
    "print(a)"
   ]
  },
  {
   "cell_type": "code",
   "execution_count": 4,
   "metadata": {
    "jupyter": {
     "outputs_hidden": false
    },
    "slideshow": {
     "slide_type": "fragment"
    }
   },
   "outputs": [
    {
     "data": {
      "text/plain": [
       "2"
      ]
     },
     "execution_count": 4,
     "metadata": {},
     "output_type": "execute_result"
    }
   ],
   "source": [
    "#Run this cell multiple times\n",
    "a=a+1\n",
    "a"
   ]
  },
  {
   "cell_type": "markdown",
   "metadata": {
    "slideshow": {
     "slide_type": "subslide"
    }
   },
   "source": [
    "# Clearing Cell Outputs\n",
    "\n",
    "Clear the output of a selected cell: `Cell -> Current Output -> Clear`\n",
    "\n",
    "Clear the output of all cells in the notebook:  `Cell -> All Output -> Clear`\n",
    "\n",
    "Note the the state of the underlying kernel __will not__ be affected - only the rendered display in the notebook."
   ]
  },
  {
   "cell_type": "markdown",
   "metadata": {
    "slideshow": {
     "slide_type": "subslide"
    }
   },
   "source": [
    "# Expanding the narrative - Markdown Cells\n",
    "\n",
    "As well as code cells, we can have cells that contain narrative text.\n",
    "\n",
    "Change the cell type using the drop down list in the toolbar, or by using the `ESC-M` keyboard shortcut.\n",
    "\n",
    "To \"open\" or select a markdown cell for editing, double click the cell.\n",
    "\n",
    "View the rendered markdown by running the cell:\n",
    "- hit the play button on the toolbar\n",
    "- use the `SHIFT-RETURN` keyboard shortcut."
   ]
  },
  {
   "cell_type": "markdown",
   "metadata": {
    "slideshow": {
     "slide_type": "subslide"
    }
   },
   "source": [
    "# Markdown cells can contain formatted headings\n",
    "\n",
    "Prefix a line of text in a markdown cell by one or more # signs, *followed by a space*, to specify the level of the heading required.\n",
    "\n",
    "````\n",
    "# Heading 1\n",
    "## Heading 2\n",
    "...\n",
    "###### Heading 6\n",
    "````"
   ]
  },
  {
   "cell_type": "markdown",
   "metadata": {
    "slideshow": {
     "slide_type": "fragment"
    }
   },
   "source": [
    "## Markdown cells can contain formatted text inline\n",
    "\n",
    "Prefix a heading with one or more # signs, followed by a space.\n",
    "\n",
    "*Emphasise* a word or phrase by wrapping it (no spaces!) with a single * on either side.\n",
    "\n",
    "__Strongly emphasise__ a word or phrase by wrapping it (no spaces!) with two underscores, __, either side."
   ]
  },
  {
   "cell_type": "markdown",
   "metadata": {
    "slideshow": {
     "slide_type": "subslide"
    }
   },
   "source": [
    "## Markdown cells can contain lists\n",
    "Create an unnumbered list by prefixing each list item with a -, followed by a space, with each list item on a separate line:\n",
    "- list item 1\n",
    "- list item 2\n",
    "\n",
    "Create a number list by prefixing each list item with a number, followed by a ., followed by a space, with each list item on a separate line:\n",
    "1. numbered item 1\n",
    "2. numbered item 2\n",
    "\n",
    "Add sublists by indenting sublisted items with a space:\n",
    "- list item\n",
    " - sublist item"
   ]
  },
  {
   "cell_type": "markdown",
   "metadata": {
    "slideshow": {
     "slide_type": "subslide"
    }
   },
   "source": [
    "## Markdown cells can contain embedded links and images\n",
    "\n",
    "Add a link using the following pattern: `[link text](URL_or_relative_path)`\n",
    "\n",
    "For example, `[Maastricht University](https://www.maastrichtuniversity.nl)` gives the clickable link: [Maastricht University](https://www.maastrichtuniversity.nl).\n",
    "\n",
    "Add an image using the following pattern: `[image alt text](URL_or_path)`\n",
    "\n",
    "For example, `[UM logo](images/UM-logo.png)` embeds the following image: ![UM logo](images/UM-logo.png)"
   ]
  },
  {
   "cell_type": "markdown",
   "metadata": {
    "slideshow": {
     "slide_type": "subslide"
    }
   },
   "source": [
    "## Markdown cells can include Latex Expressions\n",
    "\n",
    "Mathematical expessions can be rendered inline by wrapping a LaTeX expression (no spaces) with a $ either side.\n",
    "\n",
    "For example, `$e^x=\\sum_{i=0}^\\infty \\frac{1}{i!}x^i$` is rendered as the inline $e^x=\\sum_{i=0}^\\infty \\frac{1}{i!}x^i$ expression.\n",
    "\n",
    "Wrapping the expression with `$$` either side forces it to be rendered on a new line in the centre of the cell: $$e^x=\\sum_{i=0}^\\infty \\frac{1}{i!}x^i$$"
   ]
  },
  {
   "cell_type": "markdown",
   "metadata": {
    "slideshow": {
     "slide_type": "subslide"
    }
   },
   "source": [
    "### Creating tables with Markdown\n",
    "\n",
    "| Tables        | Are           | Cool  |\n",
    "| ------------- |:-------------:| -----:|\n",
    "| col 3 is      | right-aligned | 1600 |\n",
    "| col 2 is      | centered      |   12 |\n",
    "| zebra stripes | are neat      |    1 |"
   ]
  },
  {
   "cell_type": "markdown",
   "metadata": {
    "slideshow": {
     "slide_type": "subslide"
    }
   },
   "source": [
    "## Code Libraries can be imported via a Code Cell"
   ]
  },
  {
   "cell_type": "code",
   "execution_count": 5,
   "metadata": {
    "jupyter": {
     "outputs_hidden": false
    },
    "slideshow": {
     "slide_type": "fragment"
    }
   },
   "outputs": [
    {
     "data": {
      "text/plain": [
       "3.141592653589793"
      ]
     },
     "execution_count": 5,
     "metadata": {},
     "output_type": "execute_result"
    }
   ],
   "source": [
    "import numpy as np\n",
    "\n",
    "np.pi"
   ]
  },
  {
   "cell_type": "code",
   "execution_count": 6,
   "metadata": {
    "jupyter": {
     "outputs_hidden": false
    },
    "slideshow": {
     "slide_type": "subslide"
    }
   },
   "outputs": [
    {
     "data": {
      "image/png": "[encoded data removed]",
      "text/plain": [
       "<Figure size 432x288 with 1 Axes>"
      ]
     },
     "metadata": {
      "needs_background": "light"
     },
     "output_type": "display_data"
    }
   ],
   "source": [
    "#If no frequency value is specified, use the default setting: f=1\n",
    "import matplotlib.pyplot as plt\n",
    "%matplotlib inline\n",
    "\n",
    "def sinplot(f=1):\n",
    "    #Define a range of x values\n",
    "    x = np.linspace(0, 2*np.pi, 1000)  \n",
    "\n",
    "    #Plot a sine wave with the specified frequency over that range\n",
    "    y = np.sin(f*x)\n",
    "\n",
    "    #Plot the chart\n",
    "    plt.plot(x, y)\n",
    "    \n",
    "sinplot(f=3)"
   ]
  },
  {
   "cell_type": "markdown",
   "metadata": {
    "slideshow": {
     "slide_type": "subslide"
    }
   },
   "source": [
    "## Using ipywidgets `interact()`\n",
    "\n",
    "Pass the name of your function, and the default values of the parameters, to the *ipywidgets* `interact()` function to automatically create interactive widgets to control the parameter values."
   ]
  },
  {
   "cell_type": "code",
   "execution_count": 7,
   "metadata": {
    "jupyter": {
     "outputs_hidden": false
    },
    "slideshow": {
     "slide_type": "fragment"
    }
   },
   "outputs": [
    {
     "data": {
      "application/vnd.jupyter.widget-view+json": {
       "model_id": "b3438ed8ab6d47ed85667c1622a3e7e9",
       "version_major": 2,
       "version_minor": 0
      },
      "text/plain": [
       "interactive(children=(IntSlider(value=5, description='f', max=15, min=-5), Output()), _dom_classes=('widget-in…"
      ]
     },
     "metadata": {},
     "output_type": "display_data"
    },
    {
     "data": {
      "text/plain": [
       "<function __main__.sinplot(f=1)>"
      ]
     },
     "execution_count": 7,
     "metadata": {},
     "output_type": "execute_result"
    }
   ],
   "source": [
    "from ipywidgets import interact\n",
    "\n",
    "interact(sinplot, f=5)"
   ]
  },
  {
   "cell_type": "markdown",
   "metadata": {
    "slideshow": {
     "slide_type": "subslide"
    }
   },
   "source": [
    "## Specify the Step Size of a Slider\n",
    "\n",
    "Passing three values in as a list for a numerical parameter, and they define the minumim, maximum and step size values for the slider."
   ]
  },
  {
   "cell_type": "code",
   "execution_count": 8,
   "metadata": {
    "jupyter": {
     "outputs_hidden": false
    },
    "slideshow": {
     "slide_type": "fragment"
    }
   },
   "outputs": [
    {
     "data": {
      "application/vnd.jupyter.widget-view+json": {
       "model_id": "0b653fefd9ea4caeba6efbb43c4a36c7",
       "version_major": 2,
       "version_minor": 0
      },
      "text/plain": [
       "interactive(children=(Dropdown(description='f', options=(0, 20, 5), value=0), Output()), _dom_classes=('widget…"
      ]
     },
     "metadata": {},
     "output_type": "display_data"
    },
    {
     "data": {
      "text/plain": [
       "<function __main__.sinplot(f=1)>"
      ]
     },
     "execution_count": 8,
     "metadata": {},
     "output_type": "execute_result"
    }
   ],
   "source": [
    "interact(sinplot, f=[0,20,5])"
   ]
  },
  {
   "cell_type": "markdown",
   "metadata": {
    "slideshow": {
     "slide_type": "slide"
    }
   },
   "source": [
    "# Checking Reproducibility\n",
    "\n",
    "One of the aims of using notebooks is to produce an executable document that can be rerun to reproduce the results.\n",
    "\n",
    "To run cells from scratch (i.e. from a fresh kernel), `Kernel -> Restart and Clear Output` and then run the cells you want.\n",
    "\n",
    "To run all the cells in the notebook from scratch: `Kernel -> Restart and Run All`"
   ]
  }
 ],
 "metadata": {
  "celltoolbar": "Slideshow",
  "kernelspec": {
   "display_name": "Python 3",
   "language": "python",
   "name": "python3"
  },
  "language_info": {
   "codemirror_mode": {
    "name": "ipython",
    "version": 3
   },
   "file_extension": ".py",
   "mimetype": "text/x-python",
   "name": "python",
   "nbconvert_exporter": "python",
   "pygments_lexer": "ipython3",
   "version": "3.7.3"
  }
 },
 "nbformat": 4,
 "nbformat_minor": 4
}
