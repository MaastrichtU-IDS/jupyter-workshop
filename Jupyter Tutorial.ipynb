{
 "cells": [
  {
   "cell_type": "markdown",
   "metadata": {
    "slideshow": {
     "slide_type": "slide"
    }
   },
   "source": [
    "## Jupyter Notebooks"
   ]
  },
  {
   "cell_type": "markdown",
   "metadata": {
    "slideshow": {
     "slide_type": "subslide"
    }
   },
   "source": [
    "![](Jupyter.jpeg)"
   ]
  },
  {
   "cell_type": "markdown",
   "metadata": {
    "slideshow": {
     "slide_type": "slide"
    }
   },
   "source": [
    "# Intro (20 mins)"
   ]
  },
  {
   "cell_type": "code",
   "execution_count": null,
   "metadata": {},
   "outputs": [],
   "source": []
  },
  {
   "cell_type": "code",
   "execution_count": null,
   "metadata": {},
   "outputs": [],
   "source": []
  },
  {
   "cell_type": "markdown",
   "metadata": {
    "slideshow": {
     "slide_type": "slide"
    }
   },
   "source": [
    "# Basics"
   ]
  },
  {
   "cell_type": "markdown",
   "metadata": {
    "slideshow": {
     "slide_type": "fragment"
    }
   },
   "source": [
    "Inside the cell or outside the cell  \n",
    "\n",
    "Shift-Enter - run and continue  \n",
    "Alt-Enter - run and create  \n",
    "Control-Enter - run and stay  \n",
    "\n",
    "All the shortcuts keyboard  \n",
    "\n",
    "- Show the tab-board\n",
    "Menu Bar  \n",
    "File -> export  \n",
    "Theme, and text editor  \n",
    "\n",
    "Left Sidebar  \n",
    "-Main Work Area  \n",
    "\n",
    "- Manage kernels\n",
    "\n",
    "Tab completion  \n",
    "Accessing the underlying operating system  \n",
    "!pwd  \n",
    "files = !ls  \n",
    "print(files)  "
   ]
  },
  {
   "cell_type": "markdown",
   "metadata": {
    "slideshow": {
     "slide_type": "subslide"
    }
   },
   "source": [
    "### Markdown basics\n",
    "\n",
    "lists  \n",
    "italic, bold  \n",
    "titles  \n",
    "blockquote  \n",
    "links  \n",
    "code (tab)  \n",
    "dollar signs for latex  \n",
    "images  \n",
    "\n",
    "\n",
    "<img src=\"https://cloud.githubusercontent.com/assets/836375/5911140/c53e3978-a587-11e4-86a5-695469ef23a5.png\" width=\"800px\" />"
   ]
  },
  {
   "cell_type": "code",
   "execution_count": null,
   "metadata": {},
   "outputs": [],
   "source": []
  }
 ],
 "metadata": {
  "celltoolbar": "Slideshow",
  "kernelspec": {
   "display_name": "Python 3",
   "language": "python",
   "name": "python3"
  },
  "language_info": {
   "codemirror_mode": {
    "name": "ipython",
    "version": 3
   },
   "file_extension": ".py",
   "mimetype": "text/x-python",
   "name": "python",
   "nbconvert_exporter": "python",
   "pygments_lexer": "ipython3",
   "version": "3.7.3"
  }
 },
 "nbformat": 4,
 "nbformat_minor": 2
}
